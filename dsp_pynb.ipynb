{
  "nbformat": 4,
  "nbformat_minor": 0,
  "metadata": {
    "colab": {
      "name": "dsp.pynb",
      "provenance": [],
      "collapsed_sections": []
    },
    "kernelspec": {
      "name": "python3",
      "display_name": "Python 3"
    },
    "language_info": {
      "name": "python"
    }
  },
  "cells": [
    {
      "cell_type": "code",
      "execution_count": null,
      "metadata": {
        "id": "sAJWXRMmvvEf"
      },
      "outputs": [],
      "source": [
        "import numpy as np \n",
        "import pandas as pd \n",
        "import folium\n",
        "from branca.element import Figure\n",
        "fig3=Figure(width=1000,height=550)\n",
        "map3=folium.Map(location=[16.7850, 80.8488])\n",
        "fig3.add_child(map3)\n",
        "coordinates1=[[16.7850, 80.8488],[16.74012019678932, 80.68930264956727],[16.71556903382145, 80.59957662344449],[16.605049758251972, 80.52694126896415],\n",
        "              [16.65827070620522, 80.42012457119893],[16.748303214910685, 80.32185320925491],[16.817844654265627, 80.266308526417],[16.940502571590258, 80.06549313461838],\n",
        "              [16.940502571590258, 80.06549313461838],[16.89553725568682, 79.86467774281978],[16.79330352410435, 79.84331440326673],[16.650083829553765, 79.83476906744552],\n",
        "              [16.605049758251972, 79.7236797017697],[16.605049758251972, 79.71513436594846],[16.572291073468598, 79.59122699654083],[16.48217597542895, 79.45877429131194]]\n",
        "coordinates2=[[16.785885403544235, 80.84764827593281],[16.679534917649192, 80.7806900561996],[16.65450266096786, 80.73006310957209],[16.595037945528798, 80.71781465474282],[16.587212269940107, 80.69985025432662],\n",
        "              [16.562167969101786, 80.6908680541185],[16.555123672650844, 80.67616990832342],\n",
        "              [16.541817076987588, 80.66963739908115],[16.52381257485643, 80.68025272659983],[16.47079338480587, 80.60485798096713],[16.3311478945504, 80.49774129068074],\n",
        "              [16.27842550660227, 80.40710409120763],[16.18876494772962, 80.258788673888],[16.104341309298007, 80.16265831081047],[16.2388744140294, 80.07476769313959],\n",
        "              [16.362774508504796, 79.95941125744655],[16.370680361575232, 79.94293176663325],[16.436549995779814, 79.80285609472028],[16.431281245824966, 79.7177120588516],\n",
        "              [16.42074331729479, 79.72045864065383],[16.436549995779814, 79.69299282263167],[16.41810874589597, 79.55017056891649],[16.431281245824966, 79.50073209647661],\n",
        "              [16.478694846604913, 79.43206755142123]]\n"
      ]
    },
    {
      "cell_type": "code",
      "source": [
        "f1=folium.FeatureGroup(\"1 st way\")\n",
        "f2=folium.FeatureGroup(\"2nd way\")\n",
        "line_1=folium.vector_layers.PolyLine(coordinates1,popup='path 1',tooltip='1way',color='black',weight=10).add_to(f1)\n",
        "f1.add_to(map3)\n",
        "line_2=folium.vector_layers.PolyLine(coordinates2,popup='path 1',tooltip='1way',color='red',weight=10).add_to(f2)\n",
        "f2.add_to(map3)\n",
        "map3"
      ],
      "metadata": {
        "id": "rW4kD0KSw9Yx"
      },
      "execution_count": null,
      "outputs": []
    },
    {
      "cell_type": "code",
      "source": [
        "folium.Marker(location=[16.7850, 80.8488],popup=\"nuzvid bus stand\",icon=folium.Icon(color=\"blue\",prefix=\"fa\",icon=\"fa-bus\")).add_to(map3)\n",
        "folium.Marker(location=[16.74012019678932, 80.68930264956727],popup=\"petrol bunk\",icon=folium.Icon(color=\"blue\",prefix=\"fa\",icon=\"fa-box\")).add_to(map3)\n",
        "folium.Marker(location=[16.499860622279986, 80.65463991267889],popup=\"durgamma temple\",icon=folium.Icon(color=\"black\",prefix=\"fa\",icon=\"fa-bell\")).add_to(map3)\n",
        "folium.Marker(location=[16.27842550660227, 80.40710409120763],popup=\"guntur bus stand\",icon=folium.Icon(color=\"blue\",prefix=\"fa\",icon=\"fa-bus\")).add_to(map3)\n",
        "folium.Marker(location=[16.25996932095332, 80.45928914544972],popup=\"guntur railway station\",icon=folium.Icon(color=\"pink\",prefix=\"fa\",icon=\"fa-subway\")).add_to(map3)\n",
        "folium.Marker(location=[16.679534917649192, 80.7806900561996],popup=\"educational institutes\",icon=folium.Icon(color=\"orange\",prefix=\"fa\",icon=\"fa-book\")).add_to(map3)\n",
        "folium.Marker(location=[16.478694846604913, 79.43206755142123],popup=\"macherla bus stand\",icon=folium.Icon(color=\"blue\",prefix=\"fa\",icon=\"fa-bus\")).add_to(map3)\n",
        "folium.Marker(location=[16.679534917649192, 80.7806900561996],popup=\"government hospital\",icon=folium.Icon(color=\"green\",prefix=\"fa\",icon=\"fa-bed\")).add_to(map3)\n",
        "folium.Marker(location=[16.79330352410435, 79.84331440326673],popup=\"restuarant\",icon=folium.Icon(color=\"red\",prefix=\"fa\",icon=\"fa-cutlery\")).add_to(map3)\n",
        "folium.Marker(location=[16.940502571590258, 80.06549313461838],popup=\"restuarant\",icon=folium.Icon(color=\"black\",prefix=\"fa\",icon=\"fa-gavel\")).add_to(map3)\n",
        "folium.Marker(location=[16.436549995779814, 79.69299282263167],popup=\"restuarant\",icon=folium.Icon(color=\"red\",prefix=\"fa\",icon=\"fa-cutlery\")).add_to(map3)\n",
        "folium.Marker(location=[16.436549995779814, 79.69299282263167],popup=\"restuarant\",icon=folium.Icon(color=\"red\",prefix=\"fa\",icon=\"fa-cutlery\")).add_to(map3)\n",
        "folium.Marker(location=[16.795240573834054, 80.82275483778876],popup=\"iiit nuzvid\",icon=folium.Icon(color=\"grey\",prefix=\"fa\",icon=\"fa-book\")).add_to(map3)\n",
        "map3"
      ],
      "metadata": {
        "id": "WHkSCDpe3yNU"
      },
      "execution_count": null,
      "outputs": []
    }
  ]
}